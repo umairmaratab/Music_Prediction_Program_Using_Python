{
 "cells": [
  {
   "cell_type": "markdown",
   "id": "d8dcd5ca-2ca2-481a-b2a5-ec4d925fe539",
   "metadata": {},
   "source": [
    "# Major Steps in a ML Project"
   ]
  },
  {
   "cell_type": "markdown",
   "id": "aa832d7c-2120-4692-9b3c-28383db57a30",
   "metadata": {},
   "source": [
    "1. Import the Data\n",
    "2. Cleaning of Data\n",
    "3. Split of Data into Training and Test Set\n",
    "4. Creating a model\n",
    "5. Train model\n",
    "6. Make Predictions/Testing\n",
    "7. Evaluate and Improve"
   ]
  },
  {
   "cell_type": "markdown",
   "id": "a05b73f5-4201-4ef1-a514-63c330adf837",
   "metadata": {},
   "source": [
    "# Step 1: Importing Data"
   ]
  },
  {
   "cell_type": "code",
   "execution_count": 1,
   "id": "64783067-69fb-4bc2-9451-dcfd2e248ed0",
   "metadata": {},
   "outputs": [
    {
     "data": {
      "text/html": [
       "<div>\n",
       "<style scoped>\n",
       "    .dataframe tbody tr th:only-of-type {\n",
       "        vertical-align: middle;\n",
       "    }\n",
       "\n",
       "    .dataframe tbody tr th {\n",
       "        vertical-align: top;\n",
       "    }\n",
       "\n",
       "    .dataframe thead th {\n",
       "        text-align: right;\n",
       "    }\n",
       "</style>\n",
       "<table border=\"1\" class=\"dataframe\">\n",
       "  <thead>\n",
       "    <tr style=\"text-align: right;\">\n",
       "      <th></th>\n",
       "      <th>age</th>\n",
       "      <th>gender</th>\n",
       "      <th>genre</th>\n",
       "    </tr>\n",
       "  </thead>\n",
       "  <tbody>\n",
       "    <tr>\n",
       "      <th>0</th>\n",
       "      <td>20</td>\n",
       "      <td>1</td>\n",
       "      <td>HipHop</td>\n",
       "    </tr>\n",
       "    <tr>\n",
       "      <th>1</th>\n",
       "      <td>23</td>\n",
       "      <td>1</td>\n",
       "      <td>HipHop</td>\n",
       "    </tr>\n",
       "    <tr>\n",
       "      <th>2</th>\n",
       "      <td>25</td>\n",
       "      <td>1</td>\n",
       "      <td>HipHop</td>\n",
       "    </tr>\n",
       "    <tr>\n",
       "      <th>3</th>\n",
       "      <td>26</td>\n",
       "      <td>1</td>\n",
       "      <td>Jazz</td>\n",
       "    </tr>\n",
       "    <tr>\n",
       "      <th>4</th>\n",
       "      <td>29</td>\n",
       "      <td>1</td>\n",
       "      <td>Jazz</td>\n",
       "    </tr>\n",
       "    <tr>\n",
       "      <th>5</th>\n",
       "      <td>30</td>\n",
       "      <td>1</td>\n",
       "      <td>Jazz</td>\n",
       "    </tr>\n",
       "    <tr>\n",
       "      <th>6</th>\n",
       "      <td>31</td>\n",
       "      <td>1</td>\n",
       "      <td>Classical</td>\n",
       "    </tr>\n",
       "    <tr>\n",
       "      <th>7</th>\n",
       "      <td>33</td>\n",
       "      <td>1</td>\n",
       "      <td>Classical</td>\n",
       "    </tr>\n",
       "    <tr>\n",
       "      <th>8</th>\n",
       "      <td>37</td>\n",
       "      <td>1</td>\n",
       "      <td>Classical</td>\n",
       "    </tr>\n",
       "    <tr>\n",
       "      <th>9</th>\n",
       "      <td>20</td>\n",
       "      <td>0</td>\n",
       "      <td>Dance</td>\n",
       "    </tr>\n",
       "    <tr>\n",
       "      <th>10</th>\n",
       "      <td>21</td>\n",
       "      <td>0</td>\n",
       "      <td>Dance</td>\n",
       "    </tr>\n",
       "    <tr>\n",
       "      <th>11</th>\n",
       "      <td>25</td>\n",
       "      <td>0</td>\n",
       "      <td>Dance</td>\n",
       "    </tr>\n",
       "    <tr>\n",
       "      <th>12</th>\n",
       "      <td>26</td>\n",
       "      <td>0</td>\n",
       "      <td>Acoustic</td>\n",
       "    </tr>\n",
       "    <tr>\n",
       "      <th>13</th>\n",
       "      <td>27</td>\n",
       "      <td>0</td>\n",
       "      <td>Acoustic</td>\n",
       "    </tr>\n",
       "    <tr>\n",
       "      <th>14</th>\n",
       "      <td>30</td>\n",
       "      <td>0</td>\n",
       "      <td>Acoustic</td>\n",
       "    </tr>\n",
       "    <tr>\n",
       "      <th>15</th>\n",
       "      <td>31</td>\n",
       "      <td>0</td>\n",
       "      <td>Classical</td>\n",
       "    </tr>\n",
       "    <tr>\n",
       "      <th>16</th>\n",
       "      <td>34</td>\n",
       "      <td>0</td>\n",
       "      <td>Classical</td>\n",
       "    </tr>\n",
       "    <tr>\n",
       "      <th>17</th>\n",
       "      <td>35</td>\n",
       "      <td>0</td>\n",
       "      <td>Classical</td>\n",
       "    </tr>\n",
       "  </tbody>\n",
       "</table>\n",
       "</div>"
      ],
      "text/plain": [
       "    age  gender      genre\n",
       "0    20       1     HipHop\n",
       "1    23       1     HipHop\n",
       "2    25       1     HipHop\n",
       "3    26       1       Jazz\n",
       "4    29       1       Jazz\n",
       "5    30       1       Jazz\n",
       "6    31       1  Classical\n",
       "7    33       1  Classical\n",
       "8    37       1  Classical\n",
       "9    20       0      Dance\n",
       "10   21       0      Dance\n",
       "11   25       0      Dance\n",
       "12   26       0   Acoustic\n",
       "13   27       0   Acoustic\n",
       "14   30       0   Acoustic\n",
       "15   31       0  Classical\n",
       "16   34       0  Classical\n",
       "17   35       0  Classical"
      ]
     },
     "execution_count": 1,
     "metadata": {},
     "output_type": "execute_result"
    }
   ],
   "source": [
    "# Import data\n",
    "import pandas as pd\n",
    "df = pd.read_csv('data.csv')\n",
    "df"
   ]
  },
  {
   "cell_type": "markdown",
   "id": "5fc70876-d901-4a26-bd8d-75c9b5a14cf7",
   "metadata": {},
   "source": [
    "# Step 2 Cleaning Data"
   ]
  },
  {
   "cell_type": "code",
   "execution_count": 2,
   "id": "ad7bb210-b56a-438c-b462-20f0a3cb8ce8",
   "metadata": {},
   "outputs": [],
   "source": [
    "# we donot have null or outliars in our data but we need to \n",
    "# divide our data into features and classes seprate sets\n",
    "# Import data\n",
    "X = df.drop(columns=['genre'])\n",
    "y = df['genre']\n",
    "\n",
    "# X has features\n",
    "# y has classes"
   ]
  },
  {
   "cell_type": "code",
   "execution_count": 3,
   "id": "f93f250b-1390-4150-9af1-b683ca7e167e",
   "metadata": {},
   "outputs": [
    {
     "data": {
      "text/html": [
       "<div>\n",
       "<style scoped>\n",
       "    .dataframe tbody tr th:only-of-type {\n",
       "        vertical-align: middle;\n",
       "    }\n",
       "\n",
       "    .dataframe tbody tr th {\n",
       "        vertical-align: top;\n",
       "    }\n",
       "\n",
       "    .dataframe thead th {\n",
       "        text-align: right;\n",
       "    }\n",
       "</style>\n",
       "<table border=\"1\" class=\"dataframe\">\n",
       "  <thead>\n",
       "    <tr style=\"text-align: right;\">\n",
       "      <th></th>\n",
       "      <th>age</th>\n",
       "      <th>gender</th>\n",
       "    </tr>\n",
       "  </thead>\n",
       "  <tbody>\n",
       "    <tr>\n",
       "      <th>0</th>\n",
       "      <td>20</td>\n",
       "      <td>1</td>\n",
       "    </tr>\n",
       "    <tr>\n",
       "      <th>1</th>\n",
       "      <td>23</td>\n",
       "      <td>1</td>\n",
       "    </tr>\n",
       "    <tr>\n",
       "      <th>2</th>\n",
       "      <td>25</td>\n",
       "      <td>1</td>\n",
       "    </tr>\n",
       "    <tr>\n",
       "      <th>3</th>\n",
       "      <td>26</td>\n",
       "      <td>1</td>\n",
       "    </tr>\n",
       "    <tr>\n",
       "      <th>4</th>\n",
       "      <td>29</td>\n",
       "      <td>1</td>\n",
       "    </tr>\n",
       "    <tr>\n",
       "      <th>5</th>\n",
       "      <td>30</td>\n",
       "      <td>1</td>\n",
       "    </tr>\n",
       "    <tr>\n",
       "      <th>6</th>\n",
       "      <td>31</td>\n",
       "      <td>1</td>\n",
       "    </tr>\n",
       "    <tr>\n",
       "      <th>7</th>\n",
       "      <td>33</td>\n",
       "      <td>1</td>\n",
       "    </tr>\n",
       "    <tr>\n",
       "      <th>8</th>\n",
       "      <td>37</td>\n",
       "      <td>1</td>\n",
       "    </tr>\n",
       "    <tr>\n",
       "      <th>9</th>\n",
       "      <td>20</td>\n",
       "      <td>0</td>\n",
       "    </tr>\n",
       "    <tr>\n",
       "      <th>10</th>\n",
       "      <td>21</td>\n",
       "      <td>0</td>\n",
       "    </tr>\n",
       "    <tr>\n",
       "      <th>11</th>\n",
       "      <td>25</td>\n",
       "      <td>0</td>\n",
       "    </tr>\n",
       "    <tr>\n",
       "      <th>12</th>\n",
       "      <td>26</td>\n",
       "      <td>0</td>\n",
       "    </tr>\n",
       "    <tr>\n",
       "      <th>13</th>\n",
       "      <td>27</td>\n",
       "      <td>0</td>\n",
       "    </tr>\n",
       "    <tr>\n",
       "      <th>14</th>\n",
       "      <td>30</td>\n",
       "      <td>0</td>\n",
       "    </tr>\n",
       "    <tr>\n",
       "      <th>15</th>\n",
       "      <td>31</td>\n",
       "      <td>0</td>\n",
       "    </tr>\n",
       "    <tr>\n",
       "      <th>16</th>\n",
       "      <td>34</td>\n",
       "      <td>0</td>\n",
       "    </tr>\n",
       "    <tr>\n",
       "      <th>17</th>\n",
       "      <td>35</td>\n",
       "      <td>0</td>\n",
       "    </tr>\n",
       "  </tbody>\n",
       "</table>\n",
       "</div>"
      ],
      "text/plain": [
       "    age  gender\n",
       "0    20       1\n",
       "1    23       1\n",
       "2    25       1\n",
       "3    26       1\n",
       "4    29       1\n",
       "5    30       1\n",
       "6    31       1\n",
       "7    33       1\n",
       "8    37       1\n",
       "9    20       0\n",
       "10   21       0\n",
       "11   25       0\n",
       "12   26       0\n",
       "13   27       0\n",
       "14   30       0\n",
       "15   31       0\n",
       "16   34       0\n",
       "17   35       0"
      ]
     },
     "execution_count": 3,
     "metadata": {},
     "output_type": "execute_result"
    }
   ],
   "source": [
    "X # features"
   ]
  },
  {
   "cell_type": "code",
   "execution_count": 4,
   "id": "d1ed0698-293b-496a-85f7-e13270fee533",
   "metadata": {},
   "outputs": [
    {
     "data": {
      "text/plain": [
       "0        HipHop\n",
       "1        HipHop\n",
       "2        HipHop\n",
       "3          Jazz\n",
       "4          Jazz\n",
       "5          Jazz\n",
       "6     Classical\n",
       "7     Classical\n",
       "8     Classical\n",
       "9         Dance\n",
       "10        Dance\n",
       "11        Dance\n",
       "12     Acoustic\n",
       "13     Acoustic\n",
       "14     Acoustic\n",
       "15    Classical\n",
       "16    Classical\n",
       "17    Classical\n",
       "Name: genre, dtype: object"
      ]
     },
     "execution_count": 4,
     "metadata": {},
     "output_type": "execute_result"
    }
   ],
   "source": [
    "y # classes"
   ]
  },
  {
   "cell_type": "markdown",
   "id": "d8a54fc1-10e6-4dbe-be4b-e6a8da861d89",
   "metadata": {},
   "source": [
    "# Step 3: Split data into Training/Test Sets\n",
    "For splitting we can use train_test_split module available in python"
   ]
  },
  {
   "cell_type": "code",
   "execution_count": 5,
   "id": "58a71ee9-3827-4a72-a95c-243cc2307835",
   "metadata": {},
   "outputs": [],
   "source": [
    "from sklearn.model_selection import train_test_split\n",
    "X_train, X_test, y_train, y_test = train_test_split(X,y, test_size = 0.8)"
   ]
  },
  {
   "cell_type": "markdown",
   "id": "0df85116-19d3-473d-bb7f-ab6efddc3c63",
   "metadata": {},
   "source": [
    "# Step 4 Create a model"
   ]
  },
  {
   "cell_type": "markdown",
   "id": "6088bfcd-d7b8-4a4e-a9fc-ea3fd35b9139",
   "metadata": {},
   "source": [
    "we want classfication, so we can use python DecisionTreeClassifier"
   ]
  },
  {
   "cell_type": "code",
   "execution_count": 6,
   "id": "95e140b6-2566-45be-8391-6571c3734a8a",
   "metadata": {},
   "outputs": [],
   "source": [
    "from sklearn.tree import DecisionTreeClassifier\n",
    "model = DecisionTreeClassifier()"
   ]
  },
  {
   "cell_type": "code",
   "execution_count": 7,
   "id": "cb38d8ad-ea63-49a4-8efb-c309015960a3",
   "metadata": {},
   "outputs": [
    {
     "data": {
      "text/plain": [
       "sklearn.tree._classes.DecisionTreeClassifier"
      ]
     },
     "execution_count": 7,
     "metadata": {},
     "output_type": "execute_result"
    }
   ],
   "source": [
    "# Now we have our model in model variable\n",
    "type(model)"
   ]
  },
  {
   "cell_type": "markdown",
   "id": "79a0ace9-f114-4382-ab3c-ba795f640bab",
   "metadata": {},
   "source": [
    "# Step 5: Train the model"
   ]
  },
  {
   "cell_type": "markdown",
   "id": "1c482e8b-6a43-42a0-990e-6e496a9d45c3",
   "metadata": {},
   "source": [
    "we can use builtin method i.e \"fit\" available in DecisionTreeClassifer for training"
   ]
  },
  {
   "cell_type": "code",
   "execution_count": 8,
   "id": "364d248c-7496-4c6c-b992-93d2a570d912",
   "metadata": {},
   "outputs": [
    {
     "data": {
      "text/plain": [
       "DecisionTreeClassifier()"
      ]
     },
     "execution_count": 8,
     "metadata": {},
     "output_type": "execute_result"
    }
   ],
   "source": [
    "model.fit(X_train, y_train)"
   ]
  },
  {
   "cell_type": "markdown",
   "id": "ed777614-e66a-4b8f-8c4d-027ebb0e71b4",
   "metadata": {},
   "source": [
    "# Step 6: Make Predictions"
   ]
  },
  {
   "cell_type": "code",
   "execution_count": 9,
   "id": "5bcc1bc5-b187-4e90-9305-7d64b6f416bb",
   "metadata": {},
   "outputs": [
    {
     "data": {
      "text/html": [
       "<div>\n",
       "<style scoped>\n",
       "    .dataframe tbody tr th:only-of-type {\n",
       "        vertical-align: middle;\n",
       "    }\n",
       "\n",
       "    .dataframe tbody tr th {\n",
       "        vertical-align: top;\n",
       "    }\n",
       "\n",
       "    .dataframe thead th {\n",
       "        text-align: right;\n",
       "    }\n",
       "</style>\n",
       "<table border=\"1\" class=\"dataframe\">\n",
       "  <thead>\n",
       "    <tr style=\"text-align: right;\">\n",
       "      <th></th>\n",
       "      <th>age</th>\n",
       "      <th>gender</th>\n",
       "    </tr>\n",
       "  </thead>\n",
       "  <tbody>\n",
       "    <tr>\n",
       "      <th>2</th>\n",
       "      <td>25</td>\n",
       "      <td>1</td>\n",
       "    </tr>\n",
       "    <tr>\n",
       "      <th>3</th>\n",
       "      <td>26</td>\n",
       "      <td>1</td>\n",
       "    </tr>\n",
       "    <tr>\n",
       "      <th>16</th>\n",
       "      <td>34</td>\n",
       "      <td>0</td>\n",
       "    </tr>\n",
       "    <tr>\n",
       "      <th>0</th>\n",
       "      <td>20</td>\n",
       "      <td>1</td>\n",
       "    </tr>\n",
       "    <tr>\n",
       "      <th>11</th>\n",
       "      <td>25</td>\n",
       "      <td>0</td>\n",
       "    </tr>\n",
       "    <tr>\n",
       "      <th>9</th>\n",
       "      <td>20</td>\n",
       "      <td>0</td>\n",
       "    </tr>\n",
       "    <tr>\n",
       "      <th>10</th>\n",
       "      <td>21</td>\n",
       "      <td>0</td>\n",
       "    </tr>\n",
       "    <tr>\n",
       "      <th>12</th>\n",
       "      <td>26</td>\n",
       "      <td>0</td>\n",
       "    </tr>\n",
       "    <tr>\n",
       "      <th>8</th>\n",
       "      <td>37</td>\n",
       "      <td>1</td>\n",
       "    </tr>\n",
       "    <tr>\n",
       "      <th>4</th>\n",
       "      <td>29</td>\n",
       "      <td>1</td>\n",
       "    </tr>\n",
       "    <tr>\n",
       "      <th>15</th>\n",
       "      <td>31</td>\n",
       "      <td>0</td>\n",
       "    </tr>\n",
       "    <tr>\n",
       "      <th>6</th>\n",
       "      <td>31</td>\n",
       "      <td>1</td>\n",
       "    </tr>\n",
       "    <tr>\n",
       "      <th>17</th>\n",
       "      <td>35</td>\n",
       "      <td>0</td>\n",
       "    </tr>\n",
       "    <tr>\n",
       "      <th>13</th>\n",
       "      <td>27</td>\n",
       "      <td>0</td>\n",
       "    </tr>\n",
       "    <tr>\n",
       "      <th>5</th>\n",
       "      <td>30</td>\n",
       "      <td>1</td>\n",
       "    </tr>\n",
       "  </tbody>\n",
       "</table>\n",
       "</div>"
      ],
      "text/plain": [
       "    age  gender\n",
       "2    25       1\n",
       "3    26       1\n",
       "16   34       0\n",
       "0    20       1\n",
       "11   25       0\n",
       "9    20       0\n",
       "10   21       0\n",
       "12   26       0\n",
       "8    37       1\n",
       "4    29       1\n",
       "15   31       0\n",
       "6    31       1\n",
       "17   35       0\n",
       "13   27       0\n",
       "5    30       1"
      ]
     },
     "execution_count": 9,
     "metadata": {},
     "output_type": "execute_result"
    }
   ],
   "source": [
    "X_test # dataset having input values for testing"
   ]
  },
  {
   "cell_type": "code",
   "execution_count": 10,
   "id": "886561eb-0ef9-4993-ae9f-81ed331499fb",
   "metadata": {},
   "outputs": [],
   "source": [
    "predicted_output = model.predict(X_test)"
   ]
  },
  {
   "cell_type": "code",
   "execution_count": 11,
   "id": "78d68e16-9a4f-4f7a-95a4-f932ea9e83d9",
   "metadata": {},
   "outputs": [
    {
     "data": {
      "text/plain": [
       "array(['HipHop', 'HipHop', 'Classical', 'HipHop', 'HipHop', 'HipHop',\n",
       "       'HipHop', 'HipHop', 'Classical', 'Acoustic', 'Acoustic',\n",
       "       'Acoustic', 'Classical', 'Acoustic', 'Acoustic'], dtype=object)"
      ]
     },
     "execution_count": 11,
     "metadata": {},
     "output_type": "execute_result"
    }
   ],
   "source": [
    "predicted_output"
   ]
  },
  {
   "cell_type": "markdown",
   "id": "8039aff1-1f7f-4e91-a3cf-531e074c79d4",
   "metadata": {},
   "source": [
    "# Step 7: Evaluate and Improve"
   ]
  },
  {
   "cell_type": "markdown",
   "id": "0a1ebe19-c286-4061-87b5-b5da71a2e311",
   "metadata": {},
   "source": [
    "For Evaluation we can use sklearn module accuracy score"
   ]
  },
  {
   "cell_type": "code",
   "execution_count": 12,
   "id": "8ffb76a9-84e7-4f23-87c9-ae3b6c149903",
   "metadata": {},
   "outputs": [],
   "source": [
    "from sklearn.metrics import accuracy_score"
   ]
  },
  {
   "cell_type": "code",
   "execution_count": 13,
   "id": "4b412a0e-d254-472b-983f-74c73ba96d1b",
   "metadata": {},
   "outputs": [
    {
     "data": {
      "text/plain": [
       "0.4"
      ]
     },
     "execution_count": 13,
     "metadata": {},
     "output_type": "execute_result"
    }
   ],
   "source": [
    "score = accuracy_score(y_test, predicted_output) # return accuracy score b/w 0 and 1\n",
    "score"
   ]
  },
  {
   "cell_type": "markdown",
   "id": "7e8df484-0b39-42f2-8012-e978ae61c64d",
   "metadata": {},
   "source": [
    "# Putting all code at one place"
   ]
  },
  {
   "cell_type": "code",
   "execution_count": 15,
   "id": "ab476db4-de58-42f2-9b52-856138a94894",
   "metadata": {},
   "outputs": [
    {
     "data": {
      "text/plain": [
       "1.0"
      ]
     },
     "execution_count": 15,
     "metadata": {},
     "output_type": "execute_result"
    }
   ],
   "source": [
    "import pandas as pd\n",
    "from sklearn.tree import DecisionTreeClassifier\n",
    "from sklearn.model_selection import train_test_split # for splitting datasets\n",
    "from sklearn.metrics import accuracy_score\n",
    "\n",
    "df = pd.read_csv('data.csv')\n",
    "X = df.drop(columns=['genre'])\n",
    "y = df['genre']\n",
    "\n",
    "X_train, X_test, y_train, y_test = train_test_split(X,y, test_size = 0.2) # 0.2 mean 20%\n",
    "# this will return 4 tuple first 2 for input sets(training and testing)\n",
    "# other 2 for output sets (training and testing)\n",
    "\n",
    "model = DecisionTreeClassifier()\n",
    "model.fit(X_train, y_train) # fit takes input and output parameters (training)\n",
    "predicted_output = model.predict(X_test) # this method takes 2D array\n",
    "\n",
    "score = accuracy_score(y_test, predicted_output) # return accuracy score b/w 0 and 1\n",
    "score"
   ]
  },
  {
   "cell_type": "code",
   "execution_count": null,
   "id": "ba2f5cce-3e68-4eb3-90a6-e8f790fc7461",
   "metadata": {},
   "outputs": [],
   "source": [
    "# You can change value of test_size variable to see how changing\n",
    "# size of data impacts the accuracy of our model\n",
    "# test_size 0.2 meansonline d 20 % for testing and 80% for training(ideal) and\n",
    "# test_size 0.8 means 80% for testing and 20% for training (not ideal)"
   ]
  },
  {
   "cell_type": "markdown",
   "id": "33176e22-64fa-4676-ba3a-43aa744feff3",
   "metadata": {},
   "source": [
    "# Extra: Visualization"
   ]
  },
  {
   "cell_type": "markdown",
   "id": "63c692eb-2de6-443b-aea7-dddde5f38a8b",
   "metadata": {},
   "source": [
    "In order to visualize this how our model is working we can use tree module"
   ]
  },
  {
   "cell_type": "code",
   "execution_count": null,
   "id": "10e9d7aa-4bfe-4b19-a813-c9c429aeee09",
   "metadata": {},
   "outputs": [],
   "source": [
    "# Now we will export our model in visual form so we\n",
    "# know it is making predictions\n",
    "import pandas as pd\n",
    "from sklearn.tree import DecisionTreeClassifier\n",
    "from sklearn import tree\n",
    "\n",
    "df = pd.read_csv('data.csv')\n",
    "X = df.drop(columns=['genre'])\n",
    "y = df['genre']\n",
    "\n",
    "model = DecisionTreeClassifier()\n",
    "model.fit(X, y)\n",
    "\n",
    "tree.export_graphviz(model, out_file='music-recommender.dot',\n",
    "                    feature_names=['age', 'gender'],\n",
    "                    class_names=sorted(y.unique()),\n",
    "                    label='all',\n",
    "                    rounded=True,\n",
    "                    filled=True)"
   ]
  },
  {
   "cell_type": "code",
   "execution_count": null,
   "id": "7ca719a6-0cf3-4282-a780-440a4162e5bd",
   "metadata": {},
   "outputs": [],
   "source": [
    "# this will ouput a file in the current directory \n",
    "# named as music-recommender.dot"
   ]
  },
  {
   "cell_type": "markdown",
   "id": "07b5cab9-96ce-4568-8d3b-a2ab98b8b0bc",
   "metadata": {},
   "source": [
    "You can open it and paste it's code on this link to check the visualization: https://dreampuf.github.io/GraphvizOnline/"
   ]
  },
  {
   "cell_type": "code",
   "execution_count": null,
   "id": "79bf6c17-070f-4074-9438-e3b3f71d536a",
   "metadata": {},
   "outputs": [],
   "source": [
    "#Copy the below code and paste it on the upper link:\n",
    "digraph Tree {\n",
    "node [shape=box, style=\"filled, rounded\", color=\"black\", fontname=\"helvetica\"] ;\n",
    "edge [fontname=\"helvetica\"] ;\n",
    "0 [label=\"age <= 30.5\\ngini = 0.778\\nsamples = 18\\nvalue = [3, 6, 3, 3, 3]\\nclass = Classical\", fillcolor=\"#e5fad7\"] ;\n",
    "1 [label=\"age <= 25.5\\ngini = 0.75\\nsamples = 12\\nvalue = [3, 0, 3, 3, 3]\\nclass = Acoustic\", fillcolor=\"#ffffff\"] ;\n",
    "0 -> 1 [labeldistance=2.5, labelangle=45, headlabel=\"True\"] ;\n",
    "2 [label=\"gender <= 0.5\\ngini = 0.5\\nsamples = 6\\nvalue = [0, 0, 3, 3, 0]\\nclass = Dance\", fillcolor=\"#ffffff\"] ;\n",
    "1 -> 2 ;\n",
    "3 [label=\"gini = 0.0\\nsamples = 3\\nvalue = [0, 0, 3, 0, 0]\\nclass = Dance\", fillcolor=\"#39e5c5\"] ;\n",
    "2 -> 3 ;\n",
    "4 [label=\"gini = 0.0\\nsamples = 3\\nvalue = [0, 0, 0, 3, 0]\\nclass = HipHop\", fillcolor=\"#3c39e5\"] ;\n",
    "2 -> 4 ;\n",
    "5 [label=\"gender <= 0.5\\ngini = 0.5\\nsamples = 6\\nvalue = [3, 0, 0, 0, 3]\\nclass = Acoustic\", fillcolor=\"#ffffff\"] ;\n",
    "1 -> 5 ;\n",
    "6 [label=\"gini = 0.0\\nsamples = 3\\nvalue = [3, 0, 0, 0, 0]\\nclass = Acoustic\", fillcolor=\"#e58139\"] ;\n",
    "5 -> 6 ;\n",
    "7 [label=\"gini = 0.0\\nsamples = 3\\nvalue = [0, 0, 0, 0, 3]\\nclass = Jazz\", fillcolor=\"#e539c0\"] ;\n",
    "5 -> 7 ;\n",
    "8 [label=\"gini = 0.0\\nsamples = 6\\nvalue = [0, 6, 0, 0, 0]\\nclass = Classical\", fillcolor=\"#7be539\"] ;\n",
    "0 -> 8 [labeldistance=2.5, labelangle=-45, headlabel=\"False\"] ;\n",
    "}"
   ]
  },
  {
   "attachments": {
    "4b79429b-005e-4e02-b0a0-009fccf39da6.png": {
     "image/png": "[encoded data removed]"
    }
   },
   "cell_type": "markdown",
   "id": "b973305e-72a6-4202-b737-b4c7433e70fd",
   "metadata": {},
   "source": [
    "![model-tree.png](attachment:4b79429b-005e-4e02-b0a0-009fccf39da6.png)"
   ]
  },
  {
   "cell_type": "code",
   "execution_count": null,
   "id": "069859aa-77a6-4c24-8160-ae540413c39a",
   "metadata": {},
   "outputs": [],
   "source": []
  }
 ],
 "metadata": {
  "kernelspec": {
   "display_name": "Python 3 (ipykernel)",
   "language": "python",
   "name": "python3"
  },
  "language_info": {
   "codemirror_mode": {
    "name": "ipython",
    "version": 3
   },
   "file_extension": ".py",
   "mimetype": "text/x-python",
   "name": "python",
   "nbconvert_exporter": "python",
   "pygments_lexer": "ipython3",
   "version": "3.9.13"
  }
 },
 "nbformat": 4,
 "nbformat_minor": 5
}
